{
 "cells": [
  {
   "cell_type": "code",
   "execution_count": 64,
   "metadata": {},
   "outputs": [],
   "source": [
    "import pandas as pd"
   ]
  },
  {
   "cell_type": "code",
   "execution_count": 65,
   "metadata": {},
   "outputs": [],
   "source": [
    "shit = pd.read_csv(\"traffic.csv\")"
   ]
  },
  {
   "cell_type": "code",
   "execution_count": 66,
   "metadata": {},
   "outputs": [
    {
     "name": "stderr",
     "output_type": "stream",
     "text": [
      "<ipython-input-66-4824bca8b03f>:2: DeprecationWarning: The default dtype for empty Series will be 'object' instead of 'float64' in a future version. Specify a dtype explicitly to silence this warning.\n",
      "  shit['Cock'] = pd.Series()\n"
     ]
    }
   ],
   "source": [
    "shit.head()\n",
    "shit['Cock'] = pd.Series()"
   ]
  },
  {
   "cell_type": "code",
   "execution_count": 67,
   "metadata": {},
   "outputs": [],
   "source": [
    "len(shit)\n",
    "shit['Info'] = shit['Info'].str.split()"
   ]
  },
  {
   "cell_type": "code",
   "execution_count": 68,
   "metadata": {},
   "outputs": [
    {
     "name": "stderr",
     "output_type": "stream",
     "text": [
      "c:\\users\\nghoc\\appdata\\local\\programs\\python\\python39\\lib\\site-packages\\pandas\\core\\indexing.py:670: SettingWithCopyWarning: \n",
      "A value is trying to be set on a copy of a slice from a DataFrame\n",
      "\n",
      "See the caveats in the documentation: https://pandas.pydata.org/pandas-docs/stable/user_guide/indexing.html#returning-a-view-versus-a-copy\n",
      "  iloc._setitem_with_indexer(indexer, value)\n"
     ]
    }
   ],
   "source": [
    "for i in range(len(shit)):\n",
    "    shit['Cock'].iloc[i] = shit['Info'].iloc[i][8].split('.')[0]\n",
    "    shit['Info'].iloc[i] = shit['Info'].iloc[i][3]"
   ]
  },
  {
   "cell_type": "code",
   "execution_count": 70,
   "metadata": {},
   "outputs": [
    {
     "data": {
      "text/plain": [
       "'0x3664'"
      ]
     },
     "execution_count": 70,
     "metadata": {},
     "output_type": "execute_result"
    }
   ],
   "source": [
    "shit['Info'].iloc[i]"
   ]
  },
  {
   "cell_type": "code",
   "execution_count": 71,
   "metadata": {},
   "outputs": [],
   "source": [
    "penis = shit.copy(deep=True)"
   ]
  },
  {
   "cell_type": "code",
   "execution_count": 84,
   "metadata": {},
   "outputs": [
    {
     "data": {
      "text/plain": [
       "4540     d33d01233EEBT\n",
       "14758    d33d012C4IDNM\n",
       "19270    d33d012CAYLNM\n",
       "18094    d33d012CYIDDN\n",
       "1433     d33d012FMXSA3\n",
       "             ...      \n",
       "8003     d33d64ZLTORQX\n",
       "8379     d33d64ZLYEBSX\n",
       "578      d33d64ZOEBKES\n",
       "5075     d33d64ZTBOVRW\n",
       "2623     d33d64ZUXIYLF\n",
       "Name: Cock, Length: 19487, dtype: object"
      ]
     },
     "execution_count": 84,
     "metadata": {},
     "output_type": "execute_result"
    }
   ],
   "source": [
    "shit.sort_values(by=\"Cock\")['Cock']"
   ]
  },
  {
   "cell_type": "code",
   "execution_count": 74,
   "metadata": {},
   "outputs": [
    {
     "data": {
      "text/html": [
       "<div>\n",
       "<style scoped>\n",
       "    .dataframe tbody tr th:only-of-type {\n",
       "        vertical-align: middle;\n",
       "    }\n",
       "\n",
       "    .dataframe tbody tr th {\n",
       "        vertical-align: top;\n",
       "    }\n",
       "\n",
       "    .dataframe thead th {\n",
       "        text-align: right;\n",
       "    }\n",
       "</style>\n",
       "<table border=\"1\" class=\"dataframe\">\n",
       "  <thead>\n",
       "    <tr style=\"text-align: right;\">\n",
       "      <th></th>\n",
       "      <th>No.</th>\n",
       "      <th>Time</th>\n",
       "      <th>Length</th>\n",
       "      <th>Info</th>\n",
       "      <th>Cock</th>\n",
       "    </tr>\n",
       "  </thead>\n",
       "  <tbody>\n",
       "    <tr>\n",
       "      <th>0</th>\n",
       "      <td>1</td>\n",
       "      <td>0.000000</td>\n",
       "      <td>161</td>\n",
       "      <td>0x4ce3</td>\n",
       "      <td>d33d21NRXXEZL</td>\n",
       "    </tr>\n",
       "    <tr>\n",
       "      <th>1</th>\n",
       "      <td>2</td>\n",
       "      <td>1.173819</td>\n",
       "      <td>161</td>\n",
       "      <td>0xaf96</td>\n",
       "      <td>d33d05NEBUXA4</td>\n",
       "    </tr>\n",
       "    <tr>\n",
       "      <th>2</th>\n",
       "      <td>3</td>\n",
       "      <td>1.701817</td>\n",
       "      <td>161</td>\n",
       "      <td>0x8716</td>\n",
       "      <td>d33d453VNUQGI</td>\n",
       "    </tr>\n",
       "    <tr>\n",
       "      <th>3</th>\n",
       "      <td>4</td>\n",
       "      <td>1.750556</td>\n",
       "      <td>161</td>\n",
       "      <td>0xd080</td>\n",
       "      <td>d33d0433MN5ZC</td>\n",
       "    </tr>\n",
       "    <tr>\n",
       "      <th>4</th>\n",
       "      <td>5</td>\n",
       "      <td>2.150660</td>\n",
       "      <td>161</td>\n",
       "      <td>0x2ca0</td>\n",
       "      <td>d33d02A43JOQQ</td>\n",
       "    </tr>\n",
       "    <tr>\n",
       "      <th>...</th>\n",
       "      <td>...</td>\n",
       "      <td>...</td>\n",
       "      <td>...</td>\n",
       "      <td>...</td>\n",
       "      <td>...</td>\n",
       "    </tr>\n",
       "    <tr>\n",
       "      <th>19482</th>\n",
       "      <td>19483</td>\n",
       "      <td>4368.470744</td>\n",
       "      <td>161</td>\n",
       "      <td>0x060b</td>\n",
       "      <td>d33d01LPMQQGM</td>\n",
       "    </tr>\n",
       "    <tr>\n",
       "      <th>19483</th>\n",
       "      <td>19484</td>\n",
       "      <td>4368.709951</td>\n",
       "      <td>161</td>\n",
       "      <td>0xb851</td>\n",
       "      <td>d33d01YLVMNUW</td>\n",
       "    </tr>\n",
       "    <tr>\n",
       "      <th>19484</th>\n",
       "      <td>19485</td>\n",
       "      <td>4368.739111</td>\n",
       "      <td>161</td>\n",
       "      <td>0x8f4e</td>\n",
       "      <td>d33d01E5LTEBQ</td>\n",
       "    </tr>\n",
       "    <tr>\n",
       "      <th>19485</th>\n",
       "      <td>19486</td>\n",
       "      <td>4368.998883</td>\n",
       "      <td>161</td>\n",
       "      <td>0x022d</td>\n",
       "      <td>d33d01WGIDBEB</td>\n",
       "    </tr>\n",
       "    <tr>\n",
       "      <th>19486</th>\n",
       "      <td>19487</td>\n",
       "      <td>4369.016234</td>\n",
       "      <td>161</td>\n",
       "      <td>0x3664</td>\n",
       "      <td>d33d01XHK3TDF</td>\n",
       "    </tr>\n",
       "  </tbody>\n",
       "</table>\n",
       "<p>19487 rows × 5 columns</p>\n",
       "</div>"
      ],
      "text/plain": [
       "         No.         Time  Length    Info           Cock\n",
       "0          1     0.000000     161  0x4ce3  d33d21NRXXEZL\n",
       "1          2     1.173819     161  0xaf96  d33d05NEBUXA4\n",
       "2          3     1.701817     161  0x8716  d33d453VNUQGI\n",
       "3          4     1.750556     161  0xd080  d33d0433MN5ZC\n",
       "4          5     2.150660     161  0x2ca0  d33d02A43JOQQ\n",
       "...      ...          ...     ...     ...            ...\n",
       "19482  19483  4368.470744     161  0x060b  d33d01LPMQQGM\n",
       "19483  19484  4368.709951     161  0xb851  d33d01YLVMNUW\n",
       "19484  19485  4368.739111     161  0x8f4e  d33d01E5LTEBQ\n",
       "19485  19486  4368.998883     161  0x022d  d33d01WGIDBEB\n",
       "19486  19487  4369.016234     161  0x3664  d33d01XHK3TDF\n",
       "\n",
       "[19487 rows x 5 columns]"
      ]
     },
     "execution_count": 74,
     "metadata": {},
     "output_type": "execute_result"
    }
   ],
   "source": [
    "penis"
   ]
  },
  {
   "cell_type": "code",
   "execution_count": null,
   "metadata": {},
   "outputs": [],
   "source": []
  }
 ],
 "metadata": {
  "kernelspec": {
   "display_name": "Python 3",
   "language": "python",
   "name": "python3"
  },
  "language_info": {
   "codemirror_mode": {
    "name": "ipython",
    "version": 3
   },
   "file_extension": ".py",
   "mimetype": "text/x-python",
   "name": "python",
   "nbconvert_exporter": "python",
   "pygments_lexer": "ipython3",
   "version": "3.9.1"
  }
 },
 "nbformat": 4,
 "nbformat_minor": 4
}
